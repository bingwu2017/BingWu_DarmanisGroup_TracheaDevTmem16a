{
 "cells": [
  {
   "cell_type": "markdown",
   "metadata": {},
   "source": [
    "This example shows how to:  \n",
    "1. Load a counts matrix (10X Chromium data from human peripheral blood cells)\n",
    "2. Run the default Scrublet pipeline \n",
    "3. Check that doublet predictions make sense"
   ]
  },
  {
   "cell_type": "code",
   "execution_count": 2,
   "metadata": {},
   "outputs": [
    {
     "data": {
      "text/plain": [
       "['',\n",
       " '/usr/lib/python2.7',\n",
       " '/usr/lib/python2.7/plat-x86_64-linux-gnu',\n",
       " '/usr/lib/python2.7/lib-tk',\n",
       " '/usr/lib/python2.7/lib-old',\n",
       " '/usr/lib/python2.7/lib-dynload',\n",
       " '/home/ubuntu/.local/lib/python2.7/site-packages',\n",
       " '/usr/local/lib/python2.7/dist-packages',\n",
       " '/usr/lib/python2.7/dist-packages',\n",
       " '/usr/lib/python2.7/dist-packages/PILcompat',\n",
       " '/usr/lib/python2.7/dist-packages/gtk-2.0',\n",
       " '/home/ubuntu/.local/lib/python2.7/site-packages/IPython/extensions',\n",
       " '/home/ubuntu/.ipython']"
      ]
     },
     "execution_count": 2,
     "metadata": {},
     "output_type": "execute_result"
    }
   ],
   "source": [
    "import sys\n",
    "sys.path"
   ]
  },
  {
   "cell_type": "code",
   "execution_count": 8,
   "metadata": {},
   "outputs": [],
   "source": [
    "\n"
   ]
  },
  {
   "cell_type": "code",
   "execution_count": 2,
   "metadata": {},
   "outputs": [],
   "source": [
    "%matplotlib inline\n",
    "import scrublet as scr\n",
    "import scipy.io\n",
    "import matplotlib.pyplot as plt\n",
    "import numpy as np\n",
    "import os"
   ]
  },
  {
   "cell_type": "code",
   "execution_count": 3,
   "metadata": {},
   "outputs": [],
   "source": [
    "plt.rcParams['font.family'] = 'sans-serif'\n",
    "plt.rcParams['font.sans-serif'] = 'Arial'\n",
    "plt.rc('font', size=14)\n",
    "plt.rcParams['pdf.fonttype'] = 42"
   ]
  },
  {
   "cell_type": "markdown",
   "metadata": {},
   "source": [
    "#### Load counts matrix and gene list\n",
    "Load the raw counts matrix as a scipy sparse matrix with cells as rows and genes as columns."
   ]
  },
  {
   "cell_type": "code",
   "execution_count": 4,
   "metadata": {},
   "outputs": [
    {
     "name": "stdout",
     "output_type": "stream",
     "text": [
      "Counts matrix shape: 975 rows, 27998 columns\n",
      "Number of genes in gene list: 27998\n"
     ]
    }
   ],
   "source": [
    "input_dir = '/home/ubuntu/velocyto/P4_mm10_1_2_0/86_23C/86_23C/outs/filtered_gene_bc_matrices/mm10-1.2.0/'\n",
    "counts_matrix = scipy.io.mmread(input_dir + '/matrix.mtx').T.tocsc()\n",
    "genes = np.array(scr.load_genes(input_dir + 'genes.tsv', delimiter='\\t', column=1))\n",
    "\n",
    "print('Counts matrix shape: {} rows, {} columns'.format(counts_matrix.shape[0], counts_matrix.shape[1]))\n",
    "print('Number of genes in gene list: {}'.format(len(genes)))"
   ]
  },
  {
   "cell_type": "markdown",
   "metadata": {},
   "source": [
    "#### Initialize Scrublet object\n",
    "The relevant parameters are:\n",
    "- *expected_doublet_rate*: the expected fraction of transcriptomes that are doublets, typically 0.05-0.1. Results are not particularly sensitive to this parameter. For this example, the expected doublet rate comes from the Chromium User Guide: https://support.10xgenomics.com/permalink/3vzDu3zQjY0o2AqkkkI4CC\n",
    "- *sim_doublet_ratio*: the number of doublets to simulate, relative to the number of observed transcriptomes. This should be high enough that all doublet states are well-represented by simulated doublets. Setting it too high is computationally expensive. The default value is 2, though values as low as 0.5 give very similar results for the datasets that have been tested.\n",
    "- *n_neighbors*: Number of neighbors used to construct the KNN classifier of observed transcriptomes and simulated doublets. The default value of `round(0.5*sqrt(n_cells))` generally works well.\n"
   ]
  },
  {
   "cell_type": "code",
   "execution_count": 5,
   "metadata": {},
   "outputs": [],
   "source": [
    "scrub = scr.Scrublet(counts_matrix, expected_doublet_rate=0.01)"
   ]
  },
  {
   "cell_type": "markdown",
   "metadata": {},
   "source": [
    "#### Run the default pipeline, which includes:\n",
    "1. Doublet simulation\n",
    "2. Normalization, gene filtering, rescaling, PCA\n",
    "3. Doublet score calculation \n",
    "4. Doublet score threshold detection and doublet calling\n"
   ]
  },
  {
   "cell_type": "code",
   "execution_count": 6,
   "metadata": {},
   "outputs": [
    {
     "name": "stdout",
     "output_type": "stream",
     "text": [
      "Preprocessing...\n",
      "Simulating doublets...\n",
      "Embedding transcriptomes using PCA...\n",
      "Calculating doublet scores...\n",
      "Automatically set threshold at doublet score = 0.09\n",
      "Detected doublet rate = 0.6%\n",
      "Estimated detectable doublet fraction = 20.9%\n",
      "Overall doublet rate:\n",
      "\tExpected   = 1.0%\n",
      "\tEstimated  = 2.9%\n",
      "Elapsed time: 1.9 seconds\n"
     ]
    }
   ],
   "source": [
    "doublet_scores, predicted_doublets = scrub.scrub_doublets(min_counts=2, \n",
    "                                                          min_cells=3, \n",
    "                                                          min_gene_variability_pctl=85, \n",
    "                                                          n_prin_comps=30)"
   ]
  },
  {
   "cell_type": "markdown",
   "metadata": {},
   "source": [
    "#### Plot doublet score histograms  for observed transcriptomes and simulated doublets\n",
    "The simulated doublet histogram is typically bimodal. The left mode corresponds to \"embedded\" doublets generated by two cells with similar gene expression. The right mode corresponds to \"neotypic\" doublets, which are generated by cells with distinct gene expression (e.g., different cell types) and are expected to introduce more artifacts in downstream analyses. Scrublet can only detect neotypic doublets.  \n",
    "  \n",
    "To call doublets vs. singlets, we must set a threshold doublet score, ideally at the minimum between the two modes of the simulated doublet histogram. `scrub_doublets()` attempts to identify this point automatically and has done a good job in this example. However, if automatic threshold detection doesn't work well, you can adjust the threshold with the `call_doublets()` function. For example:\n",
    "```python\n",
    "scrub.call_doublets(threshold=0.25)\n",
    "```"
   ]
  },
  {
   "cell_type": "code",
   "execution_count": 7,
   "metadata": {},
   "outputs": [
    {
     "name": "stderr",
     "output_type": "stream",
     "text": [
      "/home/ubuntu/.local/lib/python2.7/site-packages/matplotlib/font_manager.py:1331: UserWarning: findfont: Font family [u'sans-serif'] not found. Falling back to DejaVu Sans\n",
      "  (prop.get_family(), self.defaultFamily[fontext]))\n"
     ]
    },
    {
     "data": {
      "image/png": "[encoded data removed]",
      "text/plain": [
       "<Figure size 576x216 with 2 Axes>"
      ]
     },
     "metadata": {
      "needs_background": "light"
     },
     "output_type": "display_data"
    }
   ],
   "source": [
    "scrub.plot_histogram();"
   ]
  },
  {
   "cell_type": "markdown",
   "metadata": {},
   "source": [
    "#### Get 2-D embedding to visualize the results"
   ]
  },
  {
   "cell_type": "code",
   "execution_count": 8,
   "metadata": {},
   "outputs": [
    {
     "name": "stdout",
     "output_type": "stream",
     "text": [
      "Running UMAP...\n"
     ]
    },
    {
     "name": "stderr",
     "output_type": "stream",
     "text": [
      "/home/ubuntu/.local/lib/python2.7/site-packages/numba/errors.py:104: UserWarning: Insufficiently recent colorama version found. Numba requires colorama >= 0.3.9\n",
      "  warnings.warn(msg)\n"
     ]
    },
    {
     "name": "stdout",
     "output_type": "stream",
     "text": [
      "Done.\n"
     ]
    }
   ],
   "source": [
    "print('Running UMAP...')\n",
    "scrub.set_embedding('UMAP', scr.get_umap(scrub.manifold_obs_, 10, min_dist=0.3))\n",
    "\n",
    "# # Uncomment to run tSNE - slow\n",
    "# print('Running tSNE...')\n",
    "# scrub.set_embedding('tSNE', scr.get_tsne(scrub.manifold_obs_, angle=0.9))\n",
    "\n",
    "# # Uncomment to run force layout - slow\n",
    "# print('Running ForceAtlas2...')\n",
    "# scrub.set_embedding('FA', scr.get_force_layout(scrub.manifold_obs_, n_neighbors=5. n_iter=1000))\n",
    "    \n",
    "print('Done.')"
   ]
  },
  {
   "cell_type": "markdown",
   "metadata": {},
   "source": [
    "#### Plot doublet predictions on 2-D embedding\n",
    "Predicted doublets should co-localize in distinct states."
   ]
  },
  {
   "cell_type": "code",
   "execution_count": 9,
   "metadata": {},
   "outputs": [
    {
     "data": {
      "image/png": "[encoded data removed]",
      "text/plain": [
       "<Figure size 576x288 with 3 Axes>"
      ]
     },
     "metadata": {
      "needs_background": "light"
     },
     "output_type": "display_data"
    }
   ],
   "source": [
    "scrub.plot_embedding('UMAP', order_points=True);\n",
    "\n",
    "# scrub.plot_embedding('tSNE', order_points=True);\n",
    "# scrub.plot_embedding('FA', order_points=True);"
   ]
  },
  {
   "cell_type": "code",
   "execution_count": 10,
   "metadata": {},
   "outputs": [
    {
     "name": "stdout",
     "output_type": "stream",
     "text": [
      "[0.00364394 0.0069262  0.00283286 0.01980198 0.03571429 0.01282051\n",
      " 0.00196024 0.01417082 0.01061836 0.00464037 0.00142248 0.0075188\n",
      " 0.00464037 0.00970874 0.0033557  0.02583026 0.01574151 0.01574151\n",
      " 0.00259502 0.00395257 0.00364394 0.00970874 0.01574151 0.00638686\n",
      " 0.10810811 0.00283286 0.00259502 0.01061836 0.01282051 0.00889878\n",
      " 0.01061836 0.0033557  0.00502513 0.01417082 0.00970874 0.03009097\n",
      " 0.00395257 0.00970874 0.0033557  0.0224904  0.04347826 0.0069262\n",
      " 0.00364394 0.01164725 0.00589391 0.00196024 0.01417082 0.01282051\n",
      " 0.00638686 0.00126103 0.00502513 0.0075188  0.00889878 0.00395257\n",
      " 0.01061836 0.00589391 0.00364394 0.0069262  0.01980198 0.03009097\n",
      " 0.01061836 0.00889878 0.00589391 0.00817295 0.01061836 0.0224904\n",
      " 0.00428385 0.03009097 0.00177136 0.01417082 0.00395257 0.00889878\n",
      " 0.0075188  0.02583026 0.00395257 0.00237107 0.01759134 0.01282051\n",
      " 0.00638686 0.00215983 0.00259502 0.00970874 0.01061836 0.0069262\n",
      " 0.0075188  0.00464037 0.00177136 0.0069262  0.00428385 0.01417082\n",
      " 0.01417082 0.02583026 0.00395257 0.0548926  0.01164725 0.0224904\n",
      " 0.00215983 0.00889878 0.00259502 0.00395257 0.0224904  0.00159236\n",
      " 0.00638686 0.0075188  0.00364394 0.00464037 0.00428385 0.00395257\n",
      " 0.00589391 0.00638686 0.00464037 0.0069262  0.00817295 0.00196024\n",
      " 0.00237107 0.00364394 0.00142248 0.00544161 0.0075188  0.00395257\n",
      " 0.01417082 0.00395257 0.0224904  0.01061836 0.00428385 0.00364394\n",
      " 0.00638686 0.00544161 0.00283286 0.00364394 0.00364394 0.00544161\n",
      " 0.00428385 0.00237107 0.01574151 0.00215983 0.00502513 0.00544161\n",
      " 0.00428385 0.01980198 0.01980198 0.0075188  0.0069262  0.00889878\n",
      " 0.0069262  0.00259502 0.00817295 0.00308592 0.00589391 0.00283286\n",
      " 0.01574151 0.0069262  0.00308592 0.01164725 0.01061836 0.00237107\n",
      " 0.00502513 0.00889878 0.00817295 0.00638686 0.01759134 0.00237107\n",
      " 0.01759134 0.01282051 0.00589391 0.0075188  0.01574151 0.00589391\n",
      " 0.00364394 0.00215983 0.00283286 0.00464037 0.01574151 0.00464037\n",
      " 0.01574151 0.00638686 0.00889878 0.00889878 0.00364394 0.00970874\n",
      " 0.00196024 0.00817295 0.00395257 0.00638686 0.0033557  0.00259502\n",
      " 0.00817295 0.01574151 0.01061836 0.00395257 0.0069262  0.00308592\n",
      " 0.00283286 0.00237107 0.01980198 0.00395257 0.01574151 0.00544161\n",
      " 0.00364394 0.01759134 0.00638686 0.01164725 0.0075188  0.00283286\n",
      " 0.00395257 0.00159236 0.00589391 0.00283286 0.00308592 0.01574151\n",
      " 0.0069262  0.00428385 0.00395257 0.01061836 0.0069262  0.00395257\n",
      " 0.0069262  0.00502513 0.00395257 0.00364394 0.01417082 0.00464037\n",
      " 0.00259502 0.01061836 0.0069262  0.00428385 0.0075188  0.00196024\n",
      " 0.00464037 0.0069262  0.00237107 0.0033557  0.00364394 0.00428385\n",
      " 0.00817295 0.00196024 0.00428385 0.00544161 0.00638686 0.00544161\n",
      " 0.00364394 0.00237107 0.00259502 0.00177136 0.0224904  0.00589391\n",
      " 0.0069262  0.00889878 0.00215983 0.01061836 0.00364394 0.00502513\n",
      " 0.00638686 0.00237107 0.01417082 0.00283286 0.0075188  0.01980198\n",
      " 0.03009097 0.0069262  0.00283286 0.00364394 0.00544161 0.00215983\n",
      " 0.01164725 0.00215983 0.00177136 0.00589391 0.00502513 0.00259502\n",
      " 0.00259502 0.00177136 0.00364394 0.00970874 0.01980198 0.00395257\n",
      " 0.00259502 0.00464037 0.00544161 0.00889878 0.00464037 0.03571429\n",
      " 0.00259502 0.00464037 0.00428385 0.01980198 0.00589391 0.00817295\n",
      " 0.00283286 0.01759134 0.00215983 0.01574151 0.00428385 0.00196024\n",
      " 0.00237107 0.00196024 0.01164725 0.00428385 0.00889878 0.00428385\n",
      " 0.00638686 0.04347826 0.01061836 0.00817295 0.01282051 0.01061836\n",
      " 0.00196024 0.00259502 0.0224904  0.00428385 0.00464037 0.00589391\n",
      " 0.0033557  0.00237107 0.00395257 0.00237107 0.0224904  0.0075188\n",
      " 0.00237107 0.01417082 0.01282051 0.01282051 0.00259502 0.01417082\n",
      " 0.01061836 0.0069262  0.00259502 0.03009097 0.0075188  0.00259502\n",
      " 0.00364394 0.04347826 0.0033557  0.01061836 0.00177136 0.00589391\n",
      " 0.0075188  0.01417082 0.00395257 0.00464037 0.0075188  0.00283286\n",
      " 0.01282051 0.01061836 0.00889878 0.00970874 0.00889878 0.0069262\n",
      " 0.01759134 0.00237107 0.00638686 0.01417082 0.01417082 0.00544161\n",
      " 0.00889878 0.00638686 0.00196024 0.00817295 0.00159236 0.00308592\n",
      " 0.00196024 0.00589391 0.0069262  0.00638686 0.00428385 0.00589391\n",
      " 0.00364394 0.00237107 0.03009097 0.00237107 0.01980198 0.01759134\n",
      " 0.0224904  0.01417082 0.00502513 0.00215983 0.00889878 0.01417082\n",
      " 0.00308592 0.00215983 0.01759134 0.0069262  0.00464037 0.00283286\n",
      " 0.00464037 0.00283286 0.00428385 0.00177136 0.0075188  0.00308592\n",
      " 0.00364394 0.00142248 0.0075188  0.03009097 0.00237107 0.01164725\n",
      " 0.00428385 0.0069262  0.00215983 0.02583026 0.00970874 0.02583026\n",
      " 0.01164725 0.00464037 0.01574151 0.01282051 0.00395257 0.00159236\n",
      " 0.01759134 0.01282051 0.01282051 0.00283286 0.00817295 0.01164725\n",
      " 0.0033557  0.00638686 0.00889878 0.01282051 0.0075188  0.01417082\n",
      " 0.00159236 0.00638686 0.00283286 0.00638686 0.00364394 0.0075188\n",
      " 0.00428385 0.00464037 0.01574151 0.00817295 0.10810811 0.02583026\n",
      " 0.00970874 0.00638686 0.00196024 0.0224904  0.01164725 0.01759134\n",
      " 0.01759134 0.00237107 0.00364394 0.00259502 0.00817295 0.00364394\n",
      " 0.04347826 0.00215983 0.0548926  0.01282051 0.00638686 0.01164725\n",
      " 0.00970874 0.01574151 0.00215983 0.00259502 0.00395257 0.00237107\n",
      " 0.0224904  0.00817295 0.0075188  0.00259502 0.01282051 0.00283286\n",
      " 0.00395257 0.00428385 0.01282051 0.01061836 0.00364394 0.00283286\n",
      " 0.00638686 0.00428385 0.00638686 0.00544161 0.00638686 0.0033557\n",
      " 0.01417082 0.01574151 0.00817295 0.03571429 0.00364394 0.01980198\n",
      " 0.00502513 0.00970874 0.00817295 0.01282051 0.0224904  0.00464037\n",
      " 0.00395257 0.01574151 0.00283286 0.02583026 0.00428385 0.00464037\n",
      " 0.00589391 0.00638686 0.01574151 0.00428385 0.0224904  0.00215983\n",
      " 0.00589391 0.00283286 0.0075188  0.00364394 0.00215983 0.01164725\n",
      " 0.01282051 0.00428385 0.00544161 0.00428385 0.00259502 0.01164725\n",
      " 0.00237107 0.01164725 0.00364394 0.00283286 0.00502513 0.00464037\n",
      " 0.00395257 0.00308592 0.00215983 0.0075188  0.00259502 0.01574151\n",
      " 0.00589391 0.01417082 0.01417082 0.01061836 0.00215983 0.00395257\n",
      " 0.00283286 0.00215983 0.01759134 0.01164725 0.00889878 0.00308592\n",
      " 0.0069262  0.01282051 0.00589391 0.00817295 0.03571429 0.01417082\n",
      " 0.00259502 0.03009097 0.00428385 0.00889878 0.01980198 0.00589391\n",
      " 0.00464037 0.00237107 0.00237107 0.01759134 0.00589391 0.0069262\n",
      " 0.01574151 0.00159236 0.00428385 0.00196024 0.03009097 0.00502513\n",
      " 0.01980198 0.0224904  0.00283286 0.00283286 0.00544161 0.00196024\n",
      " 0.00259502 0.01282051 0.01574151 0.00428385 0.01282051 0.01061836\n",
      " 0.00237107 0.00589391 0.01282051 0.00283286 0.01574151 0.00464037\n",
      " 0.00544161 0.03009097 0.0069262  0.01061836 0.00237107 0.00259502\n",
      " 0.00817295 0.00638686 0.0069262  0.00237107 0.01574151 0.00110742\n",
      " 0.00395257 0.01061836 0.0075188  0.00308592 0.01164725 0.00395257\n",
      " 0.00283286 0.00395257 0.02583026 0.01417082 0.00259502 0.00638686\n",
      " 0.00889878 0.0033557  0.00395257 0.0069262  0.00544161 0.00395257\n",
      " 0.00215983 0.01061836 0.00237107 0.00308592 0.00215983 0.00142248\n",
      " 0.0069262  0.00259502 0.00215983 0.02583026 0.00589391 0.00970874\n",
      " 0.00283286 0.01759134 0.0033557  0.00364394 0.00215983 0.00308592\n",
      " 0.00395257 0.01759134 0.00283286 0.00395257 0.00177136 0.01164725\n",
      " 0.0075188  0.00817295 0.01164725 0.01061836 0.02583026 0.00237107\n",
      " 0.00196024 0.00544161 0.0224904  0.00283286 0.00464037 0.01417082\n",
      " 0.00464037 0.00196024 0.0069262  0.0075188  0.0069262  0.00817295\n",
      " 0.01417082 0.00196024 0.00502513 0.00177136 0.01574151 0.01980198\n",
      " 0.0069262  0.01061836 0.0075188  0.01282051 0.00159236 0.0033557\n",
      " 0.00502513 0.00308592 0.00544161 0.00237107 0.10810811 0.00177136\n",
      " 0.00889878 0.01164725 0.01164725 0.0224904  0.01164725 0.00544161\n",
      " 0.00395257 0.0075188  0.00464037 0.01282051 0.01164725 0.03009097\n",
      " 0.00196024 0.00395257 0.01574151 0.0224904  0.00142248 0.01282051\n",
      " 0.01759134 0.00889878 0.01759134 0.01164725 0.00215983 0.01759134\n",
      " 0.00544161 0.01980198 0.0548926  0.0075188  0.00589391 0.00364394\n",
      " 0.00237107 0.00544161 0.00283286 0.00589391 0.00638686 0.0075188\n",
      " 0.03009097 0.00237107 0.01574151 0.00259502 0.0075188  0.00308592\n",
      " 0.03009097 0.0224904  0.00308592 0.00364394 0.01282051 0.00464037\n",
      " 0.00259502 0.0075188  0.01164725 0.01164725 0.00638686 0.01164725\n",
      " 0.01061836 0.00428385 0.00196024 0.00428385 0.00817295 0.01417082\n",
      " 0.03571429 0.0224904  0.0069262  0.00308592 0.01417082 0.00237107\n",
      " 0.00364394 0.00817295 0.00159236 0.00159236 0.04347826 0.01417082\n",
      " 0.00817295 0.00502513 0.00259502 0.00283286 0.01574151 0.00159236\n",
      " 0.01574151 0.00237107 0.00638686 0.00889878 0.00177136 0.01282051\n",
      " 0.00177136 0.00196024 0.00502513 0.00215983 0.0033557  0.0069262\n",
      " 0.00215983 0.00283286 0.01980198 0.01980198 0.00970874 0.01417082\n",
      " 0.00502513 0.01061836 0.01574151 0.01061836 0.00638686 0.00589391\n",
      " 0.00196024 0.00196024 0.00196024 0.0548926  0.00817295 0.00817295\n",
      " 0.00259502 0.01417082 0.03009097 0.0033557  0.00464037 0.00544161\n",
      " 0.00428385 0.00464037 0.00196024 0.00177136 0.01417082 0.01417082\n",
      " 0.00428385 0.00364394 0.00259502 0.0075188  0.00817295 0.00970874\n",
      " 0.00544161 0.00970874 0.01980198 0.0069262  0.01759134 0.00283286\n",
      " 0.00589391 0.0075188  0.19838057 0.00502513 0.01980198 0.00308592\n",
      " 0.01417082 0.00237107 0.00589391 0.00464037 0.0075188  0.01574151\n",
      " 0.00970874 0.07332293 0.00889878 0.00502513 0.0069262  0.00817295\n",
      " 0.02583026 0.00283286 0.01759134 0.00215983 0.01980198 0.00259502\n",
      " 0.00159236 0.00237107 0.03571429 0.00428385 0.00395257 0.00502513\n",
      " 0.00544161 0.00177136 0.0075188  0.0033557  0.00464037 0.00237107\n",
      " 0.00364394 0.0069262  0.00889878 0.00428385 0.01417082 0.00589391\n",
      " 0.00215983 0.00259502 0.00196024 0.01164725 0.00428385 0.01574151\n",
      " 0.01980198 0.02583026 0.00215983 0.00638686 0.00638686 0.01417082\n",
      " 0.00259502 0.01759134 0.01574151 0.0033557  0.01282051 0.00970874\n",
      " 0.01164725 0.03571429 0.00817295 0.01417082 0.00196024 0.00464037\n",
      " 0.01164725 0.01061836 0.01061836 0.00428385 0.00464037 0.00464037\n",
      " 0.00889878 0.02583026 0.0075188  0.10810811 0.01574151 0.01759134\n",
      " 0.01282051 0.0069262  0.00638686 0.00395257 0.01061836 0.03009097\n",
      " 0.01282051 0.00889878 0.01759134 0.00589391 0.00237107 0.03571429\n",
      " 0.00544161 0.01417082 0.00237107 0.00502513 0.00196024 0.04347826\n",
      " 0.0069262  0.01574151 0.00544161 0.03009097 0.01282051 0.01980198\n",
      " 0.0224904  0.00237107 0.00544161 0.00308592 0.01417082 0.00237107\n",
      " 0.00464037 0.01759134 0.00544161 0.00177136 0.01282051 0.00589391\n",
      " 0.00589391 0.00428385 0.00970874 0.01980198 0.0075188  0.00589391\n",
      " 0.01164725 0.00196024 0.00502513 0.00638686 0.00283286 0.00428385\n",
      " 0.00308592 0.00196024 0.01574151 0.00196024 0.01282051 0.00889878\n",
      " 0.0075188  0.00177136 0.01282051 0.01282051 0.00237107 0.01759134\n",
      " 0.00970874 0.01980198 0.00589391 0.01061836 0.00889878 0.00817295\n",
      " 0.00215983 0.01980198 0.0033557  0.00283286 0.00177136 0.0075188\n",
      " 0.04347826 0.00428385 0.00159236 0.00395257 0.00638686 0.00464037\n",
      " 0.0069262  0.00308592 0.00364394 0.00364394 0.10810811 0.01980198\n",
      " 0.00889878 0.00589391 0.00889878 0.00395257 0.01980198 0.00308592\n",
      " 0.00395257 0.00237107 0.01164725 0.00237107 0.01759134 0.0033557\n",
      " 0.00395257 0.00215983 0.00464037]\n"
     ]
    }
   ],
   "source": [
    "print(doublet_scores)"
   ]
  },
  {
   "cell_type": "code",
   "execution_count": 11,
   "metadata": {},
   "outputs": [
    {
     "name": "stdout",
     "output_type": "stream",
     "text": [
      "[False False False False False False False False False False False False\n",
      " False False False False False False False False False False False False\n",
      "  True False False False False False False False False False False False\n",
      " False False False False False False False False False False False False\n",
      " False False False False False False False False False False False False\n",
      " False False False False False False False False False False False False\n",
      " False False False False False False False False False False False False\n",
      " False False False False False False False False False False False False\n",
      " False False False False False False False False False False False False\n",
      " False False False False False False False False False False False False\n",
      " False False False False False False False False False False False False\n",
      " False False False False False False False False False False False False\n",
      " False False False False False False False False False False False False\n",
      " False False False False False False False False False False False False\n",
      " False False False False False False False False False False False False\n",
      " False False False False False False False False False False False False\n",
      " False False False False False False False False False False False False\n",
      " False False False False False False False False False False False False\n",
      " False False False False False False False False False False False False\n",
      " False False False False False False False False False False False False\n",
      " False False False False False False False False False False False False\n",
      " False False False False False False False False False False False False\n",
      " False False False False False False False False False False False False\n",
      " False False False False False False False False False False False False\n",
      " False False False False False False False False False False False False\n",
      " False False False False False False False False False False False False\n",
      " False False False False False False False False False False False False\n",
      " False False False False False False False False False False False False\n",
      " False False False False False False False False False False False False\n",
      " False False False False False False False False False False False False\n",
      " False False False False False False False False False False False False\n",
      " False False False False False False False False False False False False\n",
      " False False False False False False False False False False False False\n",
      " False False False False False False False False False False False False\n",
      " False False False False False False False False False False False False\n",
      " False False False False False False False False False False  True False\n",
      " False False False False False False False False False False False False\n",
      " False False False False False False False False False False False False\n",
      " False False False False False False False False False False False False\n",
      " False False False False False False False False False False False False\n",
      " False False False False False False False False False False False False\n",
      " False False False False False False False False False False False False\n",
      " False False False False False False False False False False False False\n",
      " False False False False False False False False False False False False\n",
      " False False False False False False False False False False False False\n",
      " False False False False False False False False False False False False\n",
      " False False False False False False False False False False False False\n",
      " False False False False False False False False False False False False\n",
      " False False False False False False False False False False False False\n",
      " False False False False False False False False False False False False\n",
      " False False False False False False False False False False False False\n",
      " False False False False False False False False False False False False\n",
      " False False False False False False False False False False False False\n",
      " False False False False False False False False False False False False\n",
      " False False False False False False False False False False False False\n",
      " False False False False  True False False False False False False False\n",
      " False False False False False False False False False False False False\n",
      " False False False False False False False False False False False False\n",
      " False False False False False False False False False False False False\n",
      " False False False False False False False False False False False False\n",
      " False False False False False False False False False False False False\n",
      " False False False False False False False False False False False False\n",
      " False False False False False False False False False False False False\n",
      " False False False False False False False False False False False False\n",
      " False False False False False False False False False False False False\n",
      " False False False False False False False False False False False False\n",
      " False False False False False False False False  True False False False\n",
      " False False False False False False False False False False False False\n",
      " False False False False False False False False False False False False\n",
      " False False False False False False False False False False False False\n",
      " False False False False False False False False False False False False\n",
      " False False False False False False False False False False False False\n",
      " False False False False False False False False False  True False False\n",
      " False False False False False False False False False False False False\n",
      " False False False False False False False False False False False False\n",
      " False False False False False False False False False False False False\n",
      " False False False False False False False False False False False False\n",
      " False False False False False False False False False False False False\n",
      " False False False False False False False False False False False False\n",
      " False False False False False False False False False False  True False\n",
      " False False False False False False False False False False False False\n",
      " False False False]\n"
     ]
    }
   ],
   "source": [
    "print(predicted_doublets)"
   ]
  },
  {
   "cell_type": "code",
   "execution_count": 12,
   "metadata": {},
   "outputs": [
    {
     "data": {
      "text/plain": [
       "6"
      ]
     },
     "execution_count": 12,
     "metadata": {},
     "output_type": "execute_result"
    }
   ],
   "source": [
    "sum(predicted_doublets)"
   ]
  },
  {
   "cell_type": "code",
   "execution_count": 13,
   "metadata": {},
   "outputs": [
    {
     "data": {
      "text/plain": [
       "975"
      ]
     },
     "execution_count": 13,
     "metadata": {},
     "output_type": "execute_result"
    }
   ],
   "source": [
    "len(predicted_doublets)"
   ]
  },
  {
   "cell_type": "code",
   "execution_count": 14,
   "metadata": {},
   "outputs": [
    {
     "name": "stdout",
     "output_type": "stream",
     "text": [
      "/home/ubuntu/scrublet/examples\n"
     ]
    }
   ],
   "source": [
    "cwd = os.getcwd()\n",
    "print (cwd)"
   ]
  },
  {
   "cell_type": "code",
   "execution_count": 14,
   "metadata": {},
   "outputs": [],
   "source": [
    "doublet_scores.tofile('P4_Oct18_wt_red_doubletScore.csv',sep=',',format='%s')"
   ]
  },
  {
   "cell_type": "code",
   "execution_count": 15,
   "metadata": {},
   "outputs": [
    {
     "data": {
      "text/plain": [
       "0.10810810810810811"
      ]
     },
     "execution_count": 15,
     "metadata": {},
     "output_type": "execute_result"
    }
   ],
   "source": [
    "min(doublet_scores[predicted_doublets])"
   ]
  },
  {
   "cell_type": "code",
   "execution_count": null,
   "metadata": {},
   "outputs": [],
   "source": []
  }
 ],
 "metadata": {
  "kernelspec": {
   "display_name": "Python 2",
   "language": "python",
   "name": "python2"
  },
  "language_info": {
   "codemirror_mode": {
    "name": "ipython",
    "version": 2
   },
   "file_extension": ".py",
   "mimetype": "text/x-python",
   "name": "python",
   "nbconvert_exporter": "python",
   "pygments_lexer": "ipython2",
   "version": "2.7.12"
  }
 },
 "nbformat": 4,
 "nbformat_minor": 2
}
